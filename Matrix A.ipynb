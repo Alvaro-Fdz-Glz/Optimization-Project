{
 "cells": [
  {
   "cell_type": "code",
   "execution_count": 1,
   "metadata": {},
   "outputs": [
    {
     "data": {
      "text/plain": [
       "matrix([[ 1.  ,  1.  ,  1.  ],\n",
       "        [-1.  ,  0.  ,  0.  ],\n",
       "        [ 1.  ,  0.  ,  0.  ],\n",
       "        [ 0.  , -1.  ,  0.  ],\n",
       "        [ 0.  ,  1.  ,  0.  ],\n",
       "        [ 0.  ,  0.  , -1.  ],\n",
       "        [ 0.  ,  0.  ,  1.  ],\n",
       "        [ 0.5 ,  0.  ,  0.  ],\n",
       "        [-0.15,  0.  ,  0.  ],\n",
       "        [-0.1 ,  0.  ,  0.  ],\n",
       "        [ 0.  , -0.3 ,  0.  ],\n",
       "        [ 0.  , -0.2 ,  0.  ],\n",
       "        [ 0.  ,  0.7 ,  0.  ],\n",
       "        [ 0.  ,  0.  , -0.1 ],\n",
       "        [ 0.  ,  0.  ,  0.8 ],\n",
       "        [ 0.  ,  0.  ,  0.2 ],\n",
       "        [ 0.  ,  0.  , -0.5 ],\n",
       "        [ 2.  ,  0.  ,  0.  ],\n",
       "        [ 0.  ,  2.  ,  0.  ],\n",
       "        [ 0.  ,  0.  ,  2.  ]])"
      ]
     },
     "execution_count": 1,
     "metadata": {},
     "output_type": "execute_result"
    }
   ],
   "source": [
    "import numpy as np\n",
    "row1=np.array([1]*12)\n",
    "row2=np.array([-1,0,0,-1,0,0,-1,0,0,-1,0,0])\n",
    "row3=-row2\n",
    "row4=np.array([0,-1,0,0,-1,0,0,-1,0,0,-1,0])\n",
    "row5=-row4\n",
    "row6=np.array([0,0,-1,0,0,-1,0,0,-1,0,0,-1])\n",
    "row7=-row6\n",
    "row8=np.array([-0.5,0,0,0.5,0,0,0.5,0,0,0.5,0,0])\n",
    "row9=np.array([-0.15,0,0,0.85,0,0,-0.15,0,0,-0.15,0,0])\n",
    "row10=np.array([-0.1,0,0,-0.1,0,0,0.9,0,0,-0.1,0,0])\n",
    "row11=np.array([0, -0.3, 0, 0, 0.7, 0, 0, -0.3, 0, 0, -0.3, 0])\n",
    "row12=np.array([0, -0.2, 0, 0, -0.2, 0, 0, 0.8, 0, 0, -0.2, 0])\n",
    "row13=np.array([0, -0.3, 0, 0, -0.3, 0, 0, -0.3, 0, 0, 0.7, 0])\n",
    "row14=np.array([0, 0, 0.9, 0, 0, -0.1, 0, 0, -0.1, 0, 0, -0.1])\n",
    "row15=np.array([0, 0, 0.8, 0, 0, -0.2, 0, 0, 0.8, 0, 0, 0.8])\n",
    "row16=np.array([0, 0, 0.2, 0, 0, 0.2, 0, 0, -0.8, 0, 0, 0.2])\n",
    "row17=np.array([0, 0, 0.5, 0, 0, 0.5, 0, 0, 0.5, 0, 0, -0.5])\n",
    "row18=np.array([-2, 0, 0, -1, 0, 0, 0, 0, 0, 2, 0, 0])\n",
    "row19=np.array([0, -2, 0, 0, -1, 0, 0, 0, 0, 0, 2, 0])\n",
    "row20=np.array([0, 0, -2, 0, 0, -1, 0, 0, 0, 0, 0, 2])\n",
    "\n",
    "A=np.matrix(data=(row1,row2,row3,row4,row5,row6,row7,row8,row9,row10,row11,row12,row13,row14,row15,row16,row17,row18,row19,row20))\n",
    "A[:,9:12]\n",
    "b=np.array([10,-6,1,-6,1,-6,1,0,0,0,0,0,0,0,0,0,0,0,0,0])\n",
    "c=np.array([3.5,3.5,3.5,5,5,5,7.5,7.5,7.5,9,9,9])"
   ]
  }
 ],
 "metadata": {
  "kernelspec": {
   "display_name": "Python 3",
   "language": "python",
   "name": "python3"
  },
  "language_info": {
   "codemirror_mode": {
    "name": "ipython",
    "version": 3
   },
   "file_extension": ".py",
   "mimetype": "text/x-python",
   "name": "python",
   "nbconvert_exporter": "python",
   "pygments_lexer": "ipython3",
   "version": "3.6.5"
  }
 },
 "nbformat": 4,
 "nbformat_minor": 2
}
