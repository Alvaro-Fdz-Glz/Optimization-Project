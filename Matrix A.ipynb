{
 "cells": [
  {
   "cell_type": "code",
   "execution_count": 18,
   "metadata": {},
   "outputs": [
    {
     "name": "stdout",
     "output_type": "stream",
     "text": [
      "[[ 1.    1.    1.    1.    1.    1.    1.    1.    1.    1.    1.    1.  ]\n",
      " [-1.    0.    0.   -1.    0.    0.   -1.    0.    0.   -1.    0.    0.  ]\n",
      " [ 1.    0.    0.    1.    0.    0.    1.    0.    0.    1.    0.    0.  ]\n",
      " [ 0.   -1.    0.    0.   -1.    0.    0.   -1.    0.    0.   -1.    0.  ]\n",
      " [ 0.    1.    0.    0.    1.    0.    0.    1.    0.    0.    1.    0.  ]\n",
      " [ 0.    0.   -1.    0.    0.   -1.    0.    0.   -1.    0.    0.   -1.  ]\n",
      " [ 0.    0.    1.    0.    0.    1.    0.    0.    1.    0.    0.    1.  ]\n",
      " [-0.5   0.    0.    0.5   0.    0.    0.5   0.    0.    0.5   0.    0.  ]\n",
      " [-0.15  0.    0.    0.85  0.    0.   -0.15  0.    0.   -0.15  0.    0.  ]\n",
      " [-0.1   0.    0.   -0.1   0.    0.    0.9   0.    0.   -0.1   0.    0.  ]\n",
      " [ 0.   -0.3   0.    0.    0.7   0.    0.   -0.3   0.    0.   -0.3   0.  ]\n",
      " [ 0.   -0.2   0.    0.   -0.2   0.    0.    0.8   0.    0.   -0.2   0.  ]\n",
      " [ 0.   -0.3   0.    0.   -0.3   0.    0.   -0.3   0.    0.    0.7   0.  ]\n",
      " [ 0.    0.    0.9   0.    0.   -0.1   0.    0.   -0.1   0.    0.   -0.1 ]\n",
      " [ 0.    0.    0.8   0.    0.   -0.2   0.    0.    0.8   0.    0.    0.8 ]\n",
      " [ 0.    0.    0.2   0.    0.    0.2   0.    0.   -0.8   0.    0.    0.2 ]\n",
      " [ 0.    0.    0.5   0.    0.    0.5   0.    0.    0.5   0.    0.   -0.5 ]\n",
      " [-2.    0.    0.   -1.    0.    0.    0.    0.    0.    2.    0.    0.  ]\n",
      " [ 0.   -2.    0.    0.   -1.    0.    0.    0.    0.    0.    2.    0.  ]\n",
      " [ 0.    0.   -2.    0.    0.   -1.    0.    0.    0.    0.    0.    2.  ]]\n",
      "[3.5 3.5 3.5 5.  5.  5.  7.5 7.5 7.5 9.  9.  9. ]\n"
     ]
    },
    {
     "data": {
      "text/plain": [
       "20"
      ]
     },
     "execution_count": 18,
     "metadata": {},
     "output_type": "execute_result"
    }
   ],
   "source": [
    "import numpy as np\n",
    "# Total amount constraint\n",
    "row1=np.array([1]*12)\n",
    "# Upper boundary for party mix\n",
    "row2=np.array([-1,0,0,-1,0,0,-1,0,0,-1,0,0])\n",
    "# Lower boundary for party mix\n",
    "row3=-row2\n",
    "# Upper boundary for luxury mix\n",
    "row4=np.array([0,-1,0,0,-1,0,0,-1,0,0,-1,0])\n",
    "# Lower boundary for luxury mix\n",
    "row5=-row4\n",
    "# Upper boundary for other mix\n",
    "row6=np.array([0,0,-1,0,0,-1,0,0,-1,0,0,-1])\n",
    "# Lower boundary for other mix\n",
    "row7=-row6\n",
    "# Maximum proportion of peanuts in party mix\n",
    "row8=np.array([-0.5,0,0,0.5,0,0,0.5,0,0,0.5,0,0])\n",
    "# Minimum proportion of cashews in party mix\n",
    "row9=np.array([-0.15,0,0,0.85,0,0,-0.15,0,0,-0.15,0,0])\n",
    "# Minimum proportion of Brazil nuts in party mix\n",
    "row10=np.array([-0.1,0,0,-0.1,0,0,0.9,0,0,-0.1,0,0])\n",
    "# Minimum proportion of cashews in luxury mix\n",
    "row11=np.array([0, -0.3, 0, 0, 0.7, 0, 0, -0.3, 0, 0, -0.3, 0])\n",
    "# Minimum proportion of Brazil nuts in luxury mix\n",
    "row12=np.array([0, -0.2, 0, 0, -0.2, 0, 0, 0.8, 0, 0, -0.2, 0])\n",
    "# Minimum proportion of hazlenuts in luxury mix\n",
    "row13=np.array([0, -0.3, 0, 0, -0.3, 0, 0, -0.3, 0, 0, 0.7, 0])\n",
    "# Minimum proportion of peanuts in other mix\n",
    "row14=np.array([0, 0, 0.9, 0, 0, -0.1, 0, 0, -0.1, 0, 0, -0.1])\n",
    "# Maximum proportion of cashews in other mix\n",
    "row15=np.array([0, 0, 0.8, 0, 0, -0.2, 0, 0, 0.8, 0, 0, 0.8])\n",
    "# Maximum proportion of Brazil nuts in other mix\n",
    "row16=np.array([0, 0, 0.2, 0, 0, 0.2, 0, 0, -0.8, 0, 0, 0.2])\n",
    "# Maximum proportion of hazlenuts in other mix\n",
    "row17=np.array([0, 0, 0.5, 0, 0, 0.5, 0, 0, 0.5, 0, 0, -0.5])\n",
    "# Maximum level of allergy for party, luxury and other mixes respectively\n",
    "row18=np.array([-2, 0, 0, -1, 0, 0, 0, 0, 0, 2, 0, 0])\n",
    "row19=np.array([0, -2, 0, 0, -1, 0, 0, 0, 0, 0, 2, 0])\n",
    "row20=np.array([0, 0, -2, 0, 0, -1, 0, 0, 0, 0, 0, 2])\n",
    "\n",
    "A=np.matrix(data=(row1,row2,row3,row4,row5,row6,row7,row8,row9,row10,row11,row12,row13,row14,row15,row16,row17,row18,row19,row20))\n",
    "b=np.array([10,-6,1,-6,1,-6,1,0,0,0,0,0,0,0,0,0,0,0,0,0])\n",
    "c=np.array([3.5,3.5,3.5,5,5,5,7.5,7.5,7.5,9,9,9])\n",
    "print(A)\n",
    "print(c)\n",
    "len(A)"
   ]
  },
  {
   "cell_type": "code",
   "execution_count": null,
   "metadata": {},
   "outputs": [],
   "source": []
  }
 ],
 "metadata": {
  "kernelspec": {
   "display_name": "Python 3",
   "language": "python",
   "name": "python3"
  },
  "language_info": {
   "codemirror_mode": {
    "name": "ipython",
    "version": 3
   },
   "file_extension": ".py",
   "mimetype": "text/x-python",
   "name": "python",
   "nbconvert_exporter": "python",
   "pygments_lexer": "ipython3",
   "version": "3.7.1"
  }
 },
 "nbformat": 4,
 "nbformat_minor": 2
}
